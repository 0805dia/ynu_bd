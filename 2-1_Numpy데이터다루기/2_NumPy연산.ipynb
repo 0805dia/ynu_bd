{
 "cells": [
  {
   "cell_type": "code",
   "execution_count": 1,
   "metadata": {},
   "outputs": [],
   "source": [
    "import numpy as np"
   ]
  },
  {
   "cell_type": "code",
   "execution_count": 4,
   "metadata": {},
   "outputs": [
    {
     "name": "stdout",
     "output_type": "stream",
     "text": [
      "1\n"
     ]
    }
   ],
   "source": [
    "arr_1d = np.array([1,2,3,4,5])\n",
    "print(arr_1d[0])"
   ]
  },
  {
   "cell_type": "code",
   "execution_count": 5,
   "metadata": {},
   "outputs": [
    {
     "name": "stdout",
     "output_type": "stream",
     "text": [
      "3\n"
     ]
    }
   ],
   "source": [
    "print(arr_1d[2])"
   ]
  },
  {
   "cell_type": "code",
   "execution_count": 6,
   "metadata": {},
   "outputs": [
    {
     "name": "stdout",
     "output_type": "stream",
     "text": [
      "5\n"
     ]
    }
   ],
   "source": [
    "print(arr_1d[-1])"
   ]
  },
  {
   "cell_type": "code",
   "execution_count": 12,
   "metadata": {},
   "outputs": [
    {
     "name": "stdout",
     "output_type": "stream",
     "text": [
      "1\n",
      "1\n"
     ]
    }
   ],
   "source": [
    "arr_2d = np.array([\n",
    "    [1,2,3],\n",
    "    [4,5,7],\n",
    "    [6,8,9],\n",
    "    [11,17,19]\n",
    "])\n",
    "\n",
    "print(arr_2d[0][0])\n",
    "print(arr_2d[0,0])"
   ]
  },
  {
   "cell_type": "code",
   "execution_count": 13,
   "metadata": {},
   "outputs": [
    {
     "name": "stdout",
     "output_type": "stream",
     "text": [
      "1\n"
     ]
    }
   ],
   "source": [
    "print(arr_2d[-4,-3])"
   ]
  },
  {
   "cell_type": "code",
   "execution_count": 18,
   "metadata": {},
   "outputs": [
    {
     "name": "stdout",
     "output_type": "stream",
     "text": [
      "[1 2]\n",
      "[2]\n",
      "[1 2 3 4]\n",
      "[2 3 4 5]\n"
     ]
    }
   ],
   "source": [
    "# 슬라이싱\n",
    "\n",
    "arr_1d = np.array([1,2,3,4,5])\n",
    "\n",
    "print(arr_1d[0:2])\n",
    "print(arr_1d[1:2])\n",
    "print(arr_1d[:4])\n",
    "print(arr_1d[1:])"
   ]
  },
  {
   "cell_type": "code",
   "execution_count": 24,
   "metadata": {},
   "outputs": [
    {
     "name": "stdout",
     "output_type": "stream",
     "text": [
      "[[ 1  2  3  5]\n",
      " [ 1  3  5  7]\n",
      " [ 2  4  6  9]\n",
      " [ 7 11 13 17]]\n",
      "[1 2 3 5]\n",
      "[1 1 2 7]\n"
     ]
    }
   ],
   "source": [
    "arr_2d = np.array([\n",
    "    [1,2,3,5],\n",
    "    [1,3,5,7],\n",
    "    [2,4,6,9],\n",
    "    [7,11,13,17]\n",
    "])\n",
    "\n",
    "print(arr_2d[0:4])\n",
    "\n",
    "# 아래의 것은 1차원에서와 달리 결과 값이 다름\n",
    "print(arr_2d[0:4][0])   \n",
    "print(arr_2d[0:4,0])"
   ]
  },
  {
   "cell_type": "code",
   "execution_count": 26,
   "metadata": {},
   "outputs": [
    {
     "name": "stdout",
     "output_type": "stream",
     "text": [
      "[1 1 2 7]\n",
      "[1 1 2]\n"
     ]
    }
   ],
   "source": [
    "print(arr_2d[:,0])\n",
    "print(arr_2d[:3,0])"
   ]
  },
  {
   "cell_type": "code",
   "execution_count": 27,
   "metadata": {},
   "outputs": [
    {
     "name": "stdout",
     "output_type": "stream",
     "text": [
      "[[1 2 3]\n",
      " [1 3 5]\n",
      " [2 4 6]]\n"
     ]
    }
   ],
   "source": [
    "print(arr_2d[:3,:3])"
   ]
  },
  {
   "cell_type": "code",
   "execution_count": 28,
   "metadata": {},
   "outputs": [
    {
     "name": "stdout",
     "output_type": "stream",
     "text": [
      "[[1 2 3]\n",
      " [1 3 5]\n",
      " [2 4 6]]\n"
     ]
    }
   ],
   "source": [
    "print(arr_2d[:3,:3])"
   ]
  },
  {
   "cell_type": "code",
   "execution_count": 31,
   "metadata": {},
   "outputs": [
    {
     "name": "stdout",
     "output_type": "stream",
     "text": [
      "[[1 2 3]\n",
      " [1 3 5]\n",
      " [2 4 6]]\n"
     ]
    }
   ],
   "source": [
    "#슬라이싱에서는 위의 print(arr_2d[-4,-3])와 달리 -1까지 했으나 -2까지 결과로 나옴\n",
    "print(arr_2d[:-1,:-1])"
   ]
  },
  {
   "cell_type": "code",
   "execution_count": 33,
   "metadata": {},
   "outputs": [
    {
     "name": "stdout",
     "output_type": "stream",
     "text": [
      "[[3 5]\n",
      " [4 6]]\n"
     ]
    }
   ],
   "source": [
    "print(arr_2d[1:3,1:3])  #2,3행 중에 2,3열"
   ]
  },
  {
   "cell_type": "code",
   "execution_count": 34,
   "metadata": {},
   "outputs": [
    {
     "name": "stdout",
     "output_type": "stream",
     "text": [
      "[[3 5]\n",
      " [4 6]]\n"
     ]
    }
   ],
   "source": [
    "print(arr_2d[-3:-1,-3:-1])"
   ]
  },
  {
   "cell_type": "code",
   "execution_count": 35,
   "metadata": {},
   "outputs": [
    {
     "data": {
      "text/plain": [
       "numpy.ndarray"
      ]
     },
     "execution_count": 35,
     "metadata": {},
     "output_type": "execute_result"
    }
   ],
   "source": [
    "type(arr_2d)"
   ]
  },
  {
   "cell_type": "code",
   "execution_count": 36,
   "metadata": {},
   "outputs": [
    {
     "name": "stdout",
     "output_type": "stream",
     "text": [
      "[[1 3 5 7]\n",
      " [2 4 6 9]]\n",
      "[[1 3 5 7]\n",
      " [2 4 6 9]]\n",
      "[[1 3 5 7]\n",
      " [2 4 6 9]]\n"
     ]
    }
   ],
   "source": [
    "print(arr_2d[1:3,0:4])\n",
    "print(arr_2d[1:3,:])\n",
    "print(arr_2d[1:-1,:])"
   ]
  },
  {
   "cell_type": "code",
   "execution_count": 38,
   "metadata": {},
   "outputs": [
    {
     "name": "stdout",
     "output_type": "stream",
     "text": [
      "[ 7 11 13 17]\n",
      "[ 7 11 13 17]\n",
      "[ 7 11 13 17]\n"
     ]
    }
   ],
   "source": [
    "print(arr_2d[3,:4])\n",
    "print(arr_2d[3,:])\n",
    "print(arr_2d[-1,:])"
   ]
  },
  {
   "cell_type": "code",
   "execution_count": 41,
   "metadata": {},
   "outputs": [
    {
     "name": "stdout",
     "output_type": "stream",
     "text": [
      "[[ 6  9]\n",
      " [13 17]]\n",
      "[[ 6  9]\n",
      " [13 17]]\n",
      "[[ 6  9]\n",
      " [13 17]]\n"
     ]
    }
   ],
   "source": [
    "print(arr_2d[2:,2:])\n",
    "print(arr_2d[-2:,-2:])\n",
    "print(arr_2d[2:4,2:4])"
   ]
  },
  {
   "cell_type": "code",
   "execution_count": 42,
   "metadata": {},
   "outputs": [
    {
     "name": "stdout",
     "output_type": "stream",
     "text": [
      "[  0   1  -4 -16  25]\n"
     ]
    }
   ],
   "source": [
    "# ndarray 원소별 연산\n",
    "\n",
    "arr = np.array([0,1,-4,-16,25])\n",
    "print(arr)"
   ]
  },
  {
   "cell_type": "code",
   "execution_count": 46,
   "metadata": {},
   "outputs": [
    {
     "name": "stdout",
     "output_type": "stream",
     "text": [
      "[ 0  1  4 16 25]\n"
     ]
    }
   ],
   "source": [
    "arr_abs=np.abs(arr)\n",
    "\n",
    "print(arr_abs)"
   ]
  },
  {
   "cell_type": "code",
   "execution_count": 44,
   "metadata": {},
   "outputs": [
    {
     "name": "stdout",
     "output_type": "stream",
     "text": [
      "[ 0.  1.  4. 16. 25.]\n"
     ]
    }
   ],
   "source": [
    "arr_fabs = np.fabs(arr)\n",
    "\n",
    "print(arr_fabs)"
   ]
  },
  {
   "cell_type": "code",
   "execution_count": 47,
   "metadata": {},
   "outputs": [
    {
     "name": "stdout",
     "output_type": "stream",
     "text": [
      "[  0   1  -4 -16  25]\n",
      "[ 0.  1. nan nan  5.]\n"
     ]
    },
    {
     "name": "stderr",
     "output_type": "stream",
     "text": [
      "C:\\Users\\as4761285 001\\AppData\\Local\\Temp\\ipykernel_10876\\2730284698.py:1: RuntimeWarning: invalid value encountered in sqrt\n",
      "  arr_sqrt = np.sqrt(arr)\n"
     ]
    }
   ],
   "source": [
    "arr_sqrt = np.sqrt(arr)\n",
    "\n",
    "print(arr)\n",
    "print(arr_sqrt)"
   ]
  },
  {
   "cell_type": "code",
   "execution_count": 48,
   "metadata": {},
   "outputs": [
    {
     "name": "stdout",
     "output_type": "stream",
     "text": [
      "[  0   1  -4 -16  25]\n",
      "[  0   1  16 256 625]\n"
     ]
    }
   ],
   "source": [
    "arr_square = np.square(arr)\n",
    "print(arr)\n",
    "print(arr_square) "
   ]
  },
  {
   "cell_type": "code",
   "execution_count": 49,
   "metadata": {},
   "outputs": [
    {
     "name": "stdout",
     "output_type": "stream",
     "text": [
      "[  0   1  -4 -16  25]\n",
      "[1.00000000e+00 2.71828183e+00 1.83156389e-02 1.12535175e-07\n",
      " 7.20048993e+10]\n"
     ]
    }
   ],
   "source": [
    "arr_exp = np.exp(arr)\n",
    "\n",
    "print(arr)\n",
    "print(arr_exp)"
   ]
  },
  {
   "cell_type": "code",
   "execution_count": 50,
   "metadata": {},
   "outputs": [
    {
     "name": "stdout",
     "output_type": "stream",
     "text": [
      "[  0   1  -4 -16  25]\n",
      "[      -inf 0.                nan        nan 3.21887582]\n"
     ]
    },
    {
     "name": "stderr",
     "output_type": "stream",
     "text": [
      "C:\\Users\\as4761285 001\\AppData\\Local\\Temp\\ipykernel_10876\\1172411286.py:1: RuntimeWarning: divide by zero encountered in log\n",
      "  arr_log = np.log(arr)\n",
      "C:\\Users\\as4761285 001\\AppData\\Local\\Temp\\ipykernel_10876\\1172411286.py:1: RuntimeWarning: invalid value encountered in log\n",
      "  arr_log = np.log(arr)\n"
     ]
    }
   ],
   "source": [
    "arr_log = np.log(arr)\n",
    "\n",
    "print(arr)\n",
    "print(arr_log)"
   ]
  },
  {
   "cell_type": "code",
   "execution_count": 51,
   "metadata": {},
   "outputs": [
    {
     "name": "stdout",
     "output_type": "stream",
     "text": [
      "[  0   1  -4 -16  25]\n",
      "[      -inf 0.                nan        nan 1.39794001]\n"
     ]
    },
    {
     "name": "stderr",
     "output_type": "stream",
     "text": [
      "C:\\Users\\as4761285 001\\AppData\\Local\\Temp\\ipykernel_10876\\2962806155.py:1: RuntimeWarning: divide by zero encountered in log10\n",
      "  arr_log10 = np.log10(arr)\n",
      "C:\\Users\\as4761285 001\\AppData\\Local\\Temp\\ipykernel_10876\\2962806155.py:1: RuntimeWarning: invalid value encountered in log10\n",
      "  arr_log10 = np.log10(arr)\n"
     ]
    }
   ],
   "source": [
    "arr_log10 = np.log10(arr)\n",
    "\n",
    "print(arr)\n",
    "print(arr_log10)"
   ]
  },
  {
   "cell_type": "code",
   "execution_count": 52,
   "metadata": {},
   "outputs": [
    {
     "name": "stdout",
     "output_type": "stream",
     "text": [
      "[  0   1  -4 -16  25]\n",
      "[ 0  1 -1 -1  1]\n"
     ]
    }
   ],
   "source": [
    "arr_sign = np.sign(arr)\n",
    "print(arr)\n",
    "print(arr_sign)"
   ]
  },
  {
   "cell_type": "code",
   "execution_count": 53,
   "metadata": {},
   "outputs": [
    {
     "name": "stdout",
     "output_type": "stream",
     "text": [
      "[ 1.15  -2.33   3.457 -4.095]\n"
     ]
    }
   ],
   "source": [
    "arr = np.array([1.15, -2.33,3.457,-4.095])\n",
    "print(arr)\n"
   ]
  },
  {
   "cell_type": "code",
   "execution_count": 57,
   "metadata": {},
   "outputs": [
    {
     "name": "stdout",
     "output_type": "stream",
     "text": [
      "[ 1.15  -2.33   3.457 -4.095]\n",
      "[ 1. -2.  3. -4.]\n"
     ]
    }
   ],
   "source": [
    "arr_round = np.around(arr)\n",
    "print(arr)\n",
    "print(arr_round)"
   ]
  },
  {
   "cell_type": "code",
   "execution_count": 58,
   "metadata": {},
   "outputs": [
    {
     "name": "stdout",
     "output_type": "stream",
     "text": [
      "[ 1.15  -2.33   3.457 -4.095]\n",
      "[ 1.2 -2.3  3.5 -4.1]\n"
     ]
    }
   ],
   "source": [
    "arr_round_1 = np.around(arr,1)\n",
    "print(arr)\n",
    "print(arr_round_1)"
   ]
  },
  {
   "cell_type": "code",
   "execution_count": 59,
   "metadata": {},
   "outputs": [
    {
     "name": "stdout",
     "output_type": "stream",
     "text": [
      "[ 1.15  -2.33   3.457 -4.095]\n",
      "[ 2. -2.  4. -4.]\n"
     ]
    }
   ],
   "source": [
    "arr_ceil = np.ceil(arr)\n",
    "\n",
    "print(arr)\n",
    "print(arr_ceil)\n"
   ]
  },
  {
   "cell_type": "code",
   "execution_count": 61,
   "metadata": {},
   "outputs": [
    {
     "name": "stdout",
     "output_type": "stream",
     "text": [
      "[ 1.15  -2.33   3.457 -4.095]\n",
      "[ 1. -3.  3. -5.]\n"
     ]
    }
   ],
   "source": [
    "arr_floor = np.floor(arr)\n",
    "\n",
    "print(arr)\n",
    "print(arr_floor)"
   ]
  },
  {
   "cell_type": "code",
   "execution_count": 63,
   "metadata": {},
   "outputs": [
    {
     "name": "stdout",
     "output_type": "stream",
     "text": [
      "[ 1.15  -2.33   3.457 -4.095]\n",
      "[ 1. -2.  3. -4.]\n"
     ]
    }
   ],
   "source": [
    "arr_trunc = np.trunc(arr)\n",
    "\n",
    "\n",
    "print(arr)\n",
    "print(arr_trunc)"
   ]
  },
  {
   "cell_type": "code",
   "execution_count": 65,
   "metadata": {},
   "outputs": [
    {
     "name": "stdout",
     "output_type": "stream",
     "text": [
      "[0 1 2 3 4]\n"
     ]
    }
   ],
   "source": [
    "arr_1 = np.arange(5)\n",
    "print(arr_1)"
   ]
  },
  {
   "cell_type": "code",
   "execution_count": 66,
   "metadata": {},
   "outputs": [
    {
     "name": "stdout",
     "output_type": "stream",
     "text": [
      "[1 3 5 7 9]\n"
     ]
    }
   ],
   "source": [
    "arr_2 = np.arange(1,10,step = 2)\n",
    "print(arr_2)"
   ]
  },
  {
   "cell_type": "code",
   "execution_count": 68,
   "metadata": {},
   "outputs": [
    {
     "name": "stdout",
     "output_type": "stream",
     "text": [
      "[0 1 2 3 4]\n",
      "[1 3 5 7 9]\n",
      "[ 1  4  7 10 13]\n"
     ]
    }
   ],
   "source": [
    "arr_add_1 = np.add(arr_1,arr_2)\n",
    "\n",
    "print(arr_1)\n",
    "print(arr_2)\n",
    "print(arr_add_1)"
   ]
  },
  {
   "cell_type": "code",
   "execution_count": 70,
   "metadata": {},
   "outputs": [
    {
     "name": "stdout",
     "output_type": "stream",
     "text": [
      "[ 1  4  7 10 13]\n"
     ]
    }
   ],
   "source": [
    "#np 를 통해 만들었기 때문에 그냥 합에서도 아래와 같이 나온다\n",
    "arr_add_2 = arr_1+arr_2 \n",
    "print(arr_add_2)"
   ]
  },
  {
   "cell_type": "code",
   "execution_count": 71,
   "metadata": {},
   "outputs": [
    {
     "name": "stdout",
     "output_type": "stream",
     "text": [
      "[0, 1, 2, 3, 4, 1, 3, 5, 7, 9]\n"
     ]
    }
   ],
   "source": [
    "#np가 아닌 것의 합은 숫자의 합이 아닌 요소들을 합집합해준다\n",
    "a_1 = list(range(5))\n",
    "a_2 = list(range(1,10,2))\n",
    "a_add_2=a_1+a_2\n",
    "print(a_add_2)"
   ]
  },
  {
   "cell_type": "code",
   "execution_count": 73,
   "metadata": {},
   "outputs": [
    {
     "name": "stdout",
     "output_type": "stream",
     "text": [
      "[0 1 2 3 4]\n",
      "[1 3 5 7 9]\n",
      "[-1 -2 -3 -4 -5]\n"
     ]
    }
   ],
   "source": [
    "arr_subtract_1 = np.subtract(arr_1,arr_2)\n",
    "\n",
    "print(arr_1)\n",
    "print(arr_2)\n",
    "print(arr_subtract_1)"
   ]
  },
  {
   "cell_type": "code",
   "execution_count": 74,
   "metadata": {},
   "outputs": [
    {
     "name": "stdout",
     "output_type": "stream",
     "text": [
      "[-1 -2 -3 -4 -5]\n"
     ]
    }
   ],
   "source": [
    "#np array 라서 가능한 것임\n",
    "arr_subtract_2 = arr_1 - arr_2 \n",
    "print(arr_subtract_2)"
   ]
  },
  {
   "cell_type": "code",
   "execution_count": 77,
   "metadata": {},
   "outputs": [
    {
     "name": "stdout",
     "output_type": "stream",
     "text": [
      "[0 1 2 3 4]\n",
      "[1 3 5 7 9]\n",
      "[ 0  3 10 21 36]\n"
     ]
    }
   ],
   "source": [
    "arr_mul = np.multiply(arr_1,arr_2)\n",
    "\n",
    "print(arr_1)\n",
    "print(arr_2)\n",
    "print(arr_mul)"
   ]
  },
  {
   "cell_type": "code",
   "execution_count": 78,
   "metadata": {},
   "outputs": [
    {
     "name": "stdout",
     "output_type": "stream",
     "text": [
      "[ 0  3 10 21 36]\n"
     ]
    }
   ],
   "source": [
    "arr_mul_2 = arr_1 * arr_2 \n",
    "print(arr_mul_2)"
   ]
  },
  {
   "cell_type": "code",
   "execution_count": 79,
   "metadata": {},
   "outputs": [
    {
     "name": "stdout",
     "output_type": "stream",
     "text": [
      "[0 1 2 3 4]\n",
      "[1 3 5 7 9]\n",
      "[0.         0.33333333 0.4        0.42857143 0.44444444]\n"
     ]
    }
   ],
   "source": [
    "arr_divide = np.divide(arr_1,arr_2)\n",
    "\n",
    "print(arr_1)\n",
    "print(arr_2)\n",
    "print(arr_divide)"
   ]
  },
  {
   "cell_type": "code",
   "execution_count": 80,
   "metadata": {},
   "outputs": [
    {
     "name": "stdout",
     "output_type": "stream",
     "text": [
      "[0.         0.33333333 0.4        0.42857143 0.44444444]\n"
     ]
    }
   ],
   "source": [
    "arr_divide_2 = arr_1 / arr_2 \n",
    "print(arr_divide_2)"
   ]
  },
  {
   "cell_type": "code",
   "execution_count": 81,
   "metadata": {},
   "outputs": [
    {
     "name": "stdout",
     "output_type": "stream",
     "text": [
      "[0 1 2 3 4]\n",
      "[1 3 5 7 9]\n",
      "[0 1 2 3 4]\n"
     ]
    }
   ],
   "source": [
    "arr_mod = np.mod(arr_1,arr_2)\n",
    "\n",
    "print(arr_1)\n",
    "print(arr_2)\n",
    "print(arr_mod)"
   ]
  },
  {
   "cell_type": "code",
   "execution_count": 82,
   "metadata": {},
   "outputs": [
    {
     "name": "stdout",
     "output_type": "stream",
     "text": [
      "[0 1 2 3 4]\n"
     ]
    }
   ],
   "source": [
    "arr_mod_2 = arr_1 % arr_2 \n",
    "print(arr_mod_2)"
   ]
  },
  {
   "cell_type": "code",
   "execution_count": 83,
   "metadata": {},
   "outputs": [
    {
     "name": "stdout",
     "output_type": "stream",
     "text": [
      "[0 1 2 3 4]\n",
      "[1 3 5 7 9]\n",
      "[     0      1     32   2187 262144]\n"
     ]
    }
   ],
   "source": [
    "arr_power = np.power(arr_1,arr_2)\n",
    "\n",
    "print(arr_1)\n",
    "print(arr_2)\n",
    "print(arr_power)"
   ]
  },
  {
   "cell_type": "code",
   "execution_count": 84,
   "metadata": {},
   "outputs": [
    {
     "name": "stdout",
     "output_type": "stream",
     "text": [
      "[     0      1     32   2187 262144]\n"
     ]
    }
   ],
   "source": [
    "arr_power_2 = arr_1 ** arr_2 \n",
    "print(arr_power_2)"
   ]
  },
  {
   "cell_type": "code",
   "execution_count": 88,
   "metadata": {},
   "outputs": [
    {
     "name": "stdout",
     "output_type": "stream",
     "text": [
      "[1 2 3]\n",
      "(3,)\n"
     ]
    }
   ],
   "source": [
    "arr_1d_3=np.array([1,2,3])\n",
    "\n",
    "print(arr_1d_3)\n",
    "print(arr_1d_3.shape)"
   ]
  },
  {
   "cell_type": "code",
   "execution_count": 89,
   "metadata": {},
   "outputs": [
    {
     "name": "stdout",
     "output_type": "stream",
     "text": [
      "[5]\n",
      "(1,)\n"
     ]
    }
   ],
   "source": [
    "arr_1d_1=np.array([5])\n",
    "print(arr_1d_1)\n",
    "print(arr_1d_1.shape)  #요소가 몇개인지 알려주는 것\n"
   ]
  },
  {
   "cell_type": "code",
   "execution_count": 90,
   "metadata": {},
   "outputs": [
    {
     "name": "stdout",
     "output_type": "stream",
     "text": [
      "[6 7 8]\n"
     ]
    }
   ],
   "source": [
    "#요소 개수가 달라도 각각 더할 수 있음 \n",
    "arr_add = arr_1d_3 + arr_1d_1\n",
    "print(arr_add)"
   ]
  },
  {
   "cell_type": "code",
   "execution_count": 94,
   "metadata": {},
   "outputs": [
    {
     "name": "stdout",
     "output_type": "stream",
     "text": [
      "[[1 4 7]\n",
      " [2 5 8]\n",
      " [3 6 9]]\n"
     ]
    }
   ],
   "source": [
    "arr_2d_3X3 = np. array([\n",
    "    [1,4,7],\n",
    "    [2,5,8],\n",
    "    [3,6,9]\n",
    "]\n",
    "    \n",
    ")\n",
    "\n",
    "print(arr_2d_3X3)"
   ]
  },
  {
   "cell_type": "code",
   "execution_count": 96,
   "metadata": {},
   "outputs": [
    {
     "name": "stdout",
     "output_type": "stream",
     "text": [
      "(3, 3)\n"
     ]
    }
   ],
   "source": [
    "print(arr_2d_3X3.shape)"
   ]
  },
  {
   "cell_type": "code",
   "execution_count": 98,
   "metadata": {},
   "outputs": [
    {
     "name": "stdout",
     "output_type": "stream",
     "text": [
      "[ 1  0 -1]\n"
     ]
    }
   ],
   "source": [
    "arr_1d_3=np.array([1,0,-1])\n",
    "\n",
    "print(arr_1d_3)"
   ]
  },
  {
   "cell_type": "code",
   "execution_count": 99,
   "metadata": {},
   "outputs": [
    {
     "name": "stdout",
     "output_type": "stream",
     "text": [
      "(3,)\n"
     ]
    }
   ],
   "source": [
    "print(arr_1d_3.shape)"
   ]
  },
  {
   "cell_type": "code",
   "execution_count": 101,
   "metadata": {},
   "outputs": [
    {
     "name": "stdout",
     "output_type": "stream",
     "text": [
      "[[2 4 6]\n",
      " [3 5 7]\n",
      " [4 6 8]]\n"
     ]
    }
   ],
   "source": [
    "arr_add = arr_2d_3X3 +arr_1d_3\n",
    "\n",
    "print(arr_add)"
   ]
  },
  {
   "cell_type": "code",
   "execution_count": 102,
   "metadata": {},
   "outputs": [
    {
     "name": "stdout",
     "output_type": "stream",
     "text": [
      "(3, 3)\n"
     ]
    }
   ],
   "source": [
    "print(arr_add.shape)"
   ]
  },
  {
   "cell_type": "code",
   "execution_count": 103,
   "metadata": {},
   "outputs": [],
   "source": [
    "##88p"
   ]
  },
  {
   "cell_type": "code",
   "execution_count": 104,
   "metadata": {},
   "outputs": [
    {
     "name": "stdout",
     "output_type": "stream",
     "text": [
      "[[1 2 3]]\n",
      "(1, 3)\n",
      "2\n"
     ]
    }
   ],
   "source": [
    "#1차원 같지만 2차원임 (주의)\n",
    "arr_2d_1X3 = np.array([[1,2,3]]) #[]가 두번 들어감\n",
    "\n",
    "print(arr_2d_1X3)\n",
    "print(arr_2d_1X3.shape)\n",
    "print(arr_2d_1X3.ndim)"
   ]
  },
  {
   "cell_type": "code",
   "execution_count": 105,
   "metadata": {},
   "outputs": [
    {
     "name": "stdout",
     "output_type": "stream",
     "text": [
      "[[1]\n",
      " [0]\n",
      " [3]]\n",
      "(3, 1)\n",
      "2\n"
     ]
    }
   ],
   "source": [
    "arr_2d_3X1 = np.array([\n",
    "    [1],\n",
    "    [0],\n",
    "    [3]])\n",
    "\n",
    "\n",
    "\n",
    "print(arr_2d_3X1)\n",
    "print(arr_2d_3X1.shape)\n",
    "print(arr_2d_3X1.ndim)\n"
   ]
  },
  {
   "cell_type": "code",
   "execution_count": 106,
   "metadata": {},
   "outputs": [
    {
     "name": "stdout",
     "output_type": "stream",
     "text": [
      "[[1 2 3]]\n",
      "[[1]\n",
      " [0]\n",
      " [3]]\n",
      "[[2 3 4]\n",
      " [1 2 3]\n",
      " [4 5 6]]\n",
      "(3, 3)\n"
     ]
    }
   ],
   "source": [
    "arr_add = arr_2d_1X3+arr_2d_3X1\n",
    "\n",
    "print(arr_2d_1X3)\n",
    "print(arr_2d_3X1)\n",
    "print(arr_add)\n",
    "\n",
    "print(arr_add.shape)"
   ]
  },
  {
   "cell_type": "code",
   "execution_count": null,
   "metadata": {},
   "outputs": [],
   "source": []
  }
 ],
 "metadata": {
  "kernelspec": {
   "display_name": "Python 3",
   "language": "python",
   "name": "python3"
  },
  "language_info": {
   "codemirror_mode": {
    "name": "ipython",
    "version": 3
   },
   "file_extension": ".py",
   "mimetype": "text/x-python",
   "name": "python",
   "nbconvert_exporter": "python",
   "pygments_lexer": "ipython3",
   "version": "3.12.4"
  }
 },
 "nbformat": 4,
 "nbformat_minor": 2
}
